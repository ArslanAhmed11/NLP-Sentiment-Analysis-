{
 "cells": [
  {
   "cell_type": "markdown",
   "metadata": {},
   "source": [
    "<H1>OPENING AND EXTRACTING DATA</H1>"
   ]
  },
  {
   "cell_type": "code",
   "execution_count": 1,
   "metadata": {},
   "outputs": [
    {
     "name": "stdout",
     "output_type": "stream",
     "text": [
      "Number of positive sentences: 5331\n",
      "Number of negative sentences: 5331\n",
      "First positive sentence: the rock is destined to be the 21st century's new \" conan \" and that he's going to make a splash even greater than arnold schwarzenegger , jean-claud van damme or steven segal . \n",
      "\n",
      "First negative sentence: simplistic , silly and tedious . \n",
      "\n"
     ]
    }
   ],
   "source": [
    "\n",
    "positive_file = \"rt-polarity.pos\"\n",
    "negative_file = \"rt-polarity.neg\"\n",
    "\n",
    "\n",
    "with open(positive_file, 'r', encoding='latin-1') as f:\n",
    "    positive_sentences = f.readlines()\n",
    "\n",
    "\n",
    "with open(negative_file, 'r', encoding='latin-1') as f:\n",
    "    negative_sentences = f.readlines()\n",
    "\n",
    "\n",
    "print(f\"Number of positive sentences: {len(positive_sentences)}\")\n",
    "print(f\"Number of negative sentences: {len(negative_sentences)}\")\n",
    "\n",
    "\n",
    "print(\"First positive sentence:\", positive_sentences[0])\n",
    "print(\"First negative sentence:\", negative_sentences[0])\n"
   ]
  },
  {
   "cell_type": "markdown",
   "metadata": {},
   "source": [
    "<H1>SPLITTING THE DATA</H1>\n"
   ]
  },
  {
   "cell_type": "code",
   "execution_count": 2,
   "metadata": {},
   "outputs": [
    {
     "name": "stdout",
     "output_type": "stream",
     "text": [
      "Training set size: 8000\n",
      "Validation set size: 1000\n",
      "Test set size: 1662\n"
     ]
    }
   ],
   "source": [
    "import random\n",
    "\n",
    "\n",
    "train_pos = positive_sentences[:4000]\n",
    "train_neg = negative_sentences[:4000]\n",
    "\n",
    "val_pos = positive_sentences[4000:4500]\n",
    "val_neg = negative_sentences[4000:4500]\n",
    "\n",
    "test_pos = positive_sentences[4500:]\n",
    "test_neg = negative_sentences[4500:]\n",
    "\n",
    "\n",
    "x_train = train_pos + train_neg\n",
    "y_train = [1] * len(train_pos) + [0] * len(train_neg)\n",
    "\n",
    "x_val = val_pos + val_neg\n",
    "y_val = [1] * len(val_pos) + [0] * len(val_neg)\n",
    "\n",
    "x_test = test_pos + test_neg\n",
    "y_test = [1] * len(test_pos) + [0] * len(test_neg)\n",
    "\n",
    "\n",
    "train_data = list(zip(x_train, y_train))\n",
    "random.shuffle(train_data)\n",
    "x_train, y_train = zip(*train_data)\n",
    "\n",
    "val_data = list(zip(x_val, y_val))\n",
    "random.shuffle(val_data)\n",
    "x_val, y_val = zip(*val_data)\n",
    "\n",
    "test_data = list(zip(x_test, y_test))\n",
    "random.shuffle(test_data)\n",
    "x_test, y_test = zip(*test_data)\n",
    "\n",
    "print(f\"Training set size: {len(x_train)}\")\n",
    "print(f\"Validation set size: {len(x_val)}\")\n",
    "print(f\"Test set size: {len(x_test)}\")\n"
   ]
  },
  {
   "cell_type": "markdown",
   "metadata": {},
   "source": [
    "<H1>USING COUNT VECTORIZER</H1>"
   ]
  },
  {
   "cell_type": "code",
   "execution_count": 3,
   "metadata": {},
   "outputs": [
    {
     "name": "stdout",
     "output_type": "stream",
     "text": [
      "Training set vectorized shape: (8000, 8000)\n",
      "Validation set vectorized shape: (1000, 8000)\n",
      "Test set vectorized shape: (1662, 8000)\n"
     ]
    }
   ],
   "source": [
    "from sklearn.feature_extraction.text import CountVectorizer\n",
    "\n",
    "\n",
    "vectorizer = CountVectorizer(stop_words='english', max_features=8000)\n",
    "\n",
    "\n",
    "x_train_vec = vectorizer.fit_transform(x_train)\n",
    "x_val_vec = vectorizer.transform(x_val)\n",
    "x_test_vec = vectorizer.transform(x_test)\n",
    "\n",
    "\n",
    "print(f\"Training set vectorized shape: {x_train_vec.shape}\")\n",
    "print(f\"Validation set vectorized shape: {x_val_vec.shape}\")\n",
    "print(f\"Test set vectorized shape: {x_test_vec.shape}\")\n"
   ]
  },
  {
   "cell_type": "markdown",
   "metadata": {},
   "source": [
    "<H1> TESTING </H1>"
   ]
  },
  {
   "cell_type": "code",
   "execution_count": 4,
   "metadata": {},
   "outputs": [
    {
     "name": "stderr",
     "output_type": "stream",
     "text": [
      "/Library/Frameworks/Python.framework/Versions/3.11/lib/python3.11/site-packages/keras/src/layers/core/dense.py:87: UserWarning: Do not pass an `input_shape`/`input_dim` argument to a layer. When using Sequential models, prefer using an `Input(shape)` object as the first layer in the model instead.\n",
      "  super().__init__(activity_regularizer=activity_regularizer, **kwargs)\n"
     ]
    },
    {
     "name": "stdout",
     "output_type": "stream",
     "text": [
      "Epoch 1/15\n",
      "\u001b[1m250/250\u001b[0m \u001b[32m━━━━━━━━━━━━━━━━━━━━\u001b[0m\u001b[37m\u001b[0m \u001b[1m3s\u001b[0m 9ms/step - accuracy: 0.5808 - loss: 0.6577 - val_accuracy: 0.7380 - val_loss: 0.5297\n",
      "Epoch 2/15\n",
      "\u001b[1m250/250\u001b[0m \u001b[32m━━━━━━━━━━━━━━━━━━━━\u001b[0m\u001b[37m\u001b[0m \u001b[1m2s\u001b[0m 9ms/step - accuracy: 0.8749 - loss: 0.3088 - val_accuracy: 0.7580 - val_loss: 0.5297\n",
      "Epoch 3/15\n",
      "\u001b[1m250/250\u001b[0m \u001b[32m━━━━━━━━━━━━━━━━━━━━\u001b[0m\u001b[37m\u001b[0m \u001b[1m2s\u001b[0m 9ms/step - accuracy: 0.9641 - loss: 0.1167 - val_accuracy: 0.7670 - val_loss: 0.7470\n",
      "Epoch 4/15\n",
      "\u001b[1m250/250\u001b[0m \u001b[32m━━━━━━━━━━━━━━━━━━━━\u001b[0m\u001b[37m\u001b[0m \u001b[1m2s\u001b[0m 9ms/step - accuracy: 0.9897 - loss: 0.0350 - val_accuracy: 0.7600 - val_loss: 1.0752\n",
      "Epoch 5/15\n",
      "\u001b[1m250/250\u001b[0m \u001b[32m━━━━━━━━━━━━━━━━━━━━\u001b[0m\u001b[37m\u001b[0m \u001b[1m2s\u001b[0m 9ms/step - accuracy: 0.9952 - loss: 0.0154 - val_accuracy: 0.7540 - val_loss: 1.3289\n",
      "Epoch 6/15\n",
      "\u001b[1m250/250\u001b[0m \u001b[32m━━━━━━━━━━━━━━━━━━━━\u001b[0m\u001b[37m\u001b[0m \u001b[1m2s\u001b[0m 9ms/step - accuracy: 0.9979 - loss: 0.0078 - val_accuracy: 0.7520 - val_loss: 1.5547\n",
      "\u001b[1m32/32\u001b[0m \u001b[32m━━━━━━━━━━━━━━━━━━━━\u001b[0m\u001b[37m\u001b[0m \u001b[1m0s\u001b[0m 2ms/step - accuracy: 0.7689 - loss: 1.4326 \n",
      "Validation Accuracy: 75.20%\n",
      "\u001b[1m52/52\u001b[0m \u001b[32m━━━━━━━━━━━━━━━━━━━━\u001b[0m\u001b[37m\u001b[0m \u001b[1m0s\u001b[0m 2ms/step - accuracy: 0.7344 - loss: 1.6221\n",
      "Test Accuracy: 74.01%\n"
     ]
    }
   ],
   "source": [
    "import numpy as np\n",
    "import tensorflow as tf\n",
    "from tensorflow.keras.models import Sequential\n",
    "from tensorflow.keras.layers import Dense, Dropout\n",
    "from tensorflow.keras.utils import to_categorical\n",
    "from tensorflow.keras.callbacks import EarlyStopping\n",
    "\n",
    "\n",
    "x_train_dense = x_train_vec.toarray()\n",
    "x_val_dense = x_val_vec.toarray()\n",
    "x_test_dense = x_test_vec.toarray()\n",
    "\n",
    "\n",
    "y_train = np.array(y_train)\n",
    "y_val = np.array(y_val)\n",
    "y_test = np.array(y_test)\n",
    "\n",
    "def build_model(input_dim):\n",
    "    model = Sequential()\n",
    "    model.add(Dense(256, input_dim=input_dim, activation='relu'))\n",
    "    model.add(Dropout(0.4))  \n",
    "    model.add(Dense(256, input_dim=input_dim, activation='relu'))\n",
    "    model.add(Dropout(0.4))\n",
    "    model.add(Dense(128, activation='relu'))\n",
    "    model.add(Dropout(0.4))\n",
    "    model.add(Dense(1, activation='sigmoid'))  \n",
    "\n",
    "    model.compile(optimizer='adam', loss='binary_crossentropy', metrics=['accuracy'])\n",
    "    return model\n",
    "\n",
    "\n",
    "input_dim = x_train_dense.shape[1]  \n",
    "model = build_model(input_dim)\n",
    "early_stopping = EarlyStopping(monitor='val_loss', patience=5)\n",
    "\n",
    "history = model.fit(x_train_dense, y_train, epochs=15, batch_size=32, validation_data=(x_val_dense, y_val),callbacks=[early_stopping])\n",
    "\n",
    "\n",
    "val_loss, val_accuracy = model.evaluate(x_val_dense, y_val)\n",
    "print(f\"Validation Accuracy: {val_accuracy * 100:.2f}%\")\n",
    "\n",
    "test_loss, test_accuracy = model.evaluate(x_test_dense, y_test)\n",
    "print(f\"Test Accuracy: {test_accuracy * 100:.2f}%\")\n"
   ]
  },
  {
   "cell_type": "markdown",
   "metadata": {},
   "source": [
    "<H1> EVALUATION </H1>"
   ]
  },
  {
   "cell_type": "code",
   "execution_count": 5,
   "metadata": {},
   "outputs": [
    {
     "name": "stdout",
     "output_type": "stream",
     "text": [
      "\u001b[1m52/52\u001b[0m \u001b[32m━━━━━━━━━━━━━━━━━━━━\u001b[0m\u001b[37m\u001b[0m \u001b[1m0s\u001b[0m 2ms/step\n",
      "Confusion Matrix:\n",
      "TP (True Positives): 614\n",
      "TN (True Negatives): 616\n",
      "FP (False Positives): 215\n",
      "FN (False Negatives): 217\n",
      "Precision: 74.07%\n",
      "Recall: 73.89%\n",
      "F1-Score: 73.98%\n"
     ]
    }
   ],
   "source": [
    "from sklearn.metrics import confusion_matrix, precision_score, recall_score, f1_score\n",
    "\n",
    "# Make predictions using the TensorFlow model\n",
    "y_test_pred_probs = model.predict(x_test_dense)\n",
    "y_test_pred = (y_test_pred_probs > 0.5).astype(int).flatten()  # Convert probabilities to binary labels\n",
    "\n",
    "# Compute confusion matrix\n",
    "cm = confusion_matrix(y_test, y_test_pred)\n",
    "tn, fp, fn, tp = cm.ravel()  # Get TP, TN, FP, FN from the confusion matrix\n",
    "\n",
    "# Calculate precision, recall, and F1-score\n",
    "precision = precision_score(y_test, y_test_pred)\n",
    "recall = recall_score(y_test, y_test_pred)\n",
    "f1 = f1_score(y_test, y_test_pred)\n",
    "\n",
    "# Print results\n",
    "print(\"Confusion Matrix:\")\n",
    "print(f\"TP (True Positives): {tp}\")\n",
    "print(f\"TN (True Negatives): {tn}\")\n",
    "print(f\"FP (False Positives): {fp}\")\n",
    "print(f\"FN (False Negatives): {fn}\")\n",
    "print(f\"Precision: {precision * 100:.2f}%\")\n",
    "print(f\"Recall: {recall * 100:.2f}%\")\n",
    "print(f\"F1-Score: {f1 * 100:.2f}%\")\n"
   ]
  },
  {
   "cell_type": "code",
   "execution_count": null,
   "metadata": {},
   "outputs": [],
   "source": []
  }
 ],
 "metadata": {
  "kernelspec": {
   "display_name": "Python 3",
   "language": "python",
   "name": "python3"
  },
  "language_info": {
   "codemirror_mode": {
    "name": "ipython",
    "version": 3
   },
   "file_extension": ".py",
   "mimetype": "text/x-python",
   "name": "python",
   "nbconvert_exporter": "python",
   "pygments_lexer": "ipython3",
   "version": "3.11.1"
  }
 },
 "nbformat": 4,
 "nbformat_minor": 2
}
